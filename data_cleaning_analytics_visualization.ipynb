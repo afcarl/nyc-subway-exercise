{
 "cells": [
  {
   "cell_type": "code",
   "execution_count": 1,
   "metadata": {
    "collapsed": true
   },
   "outputs": [],
   "source": [
    "import pandas as pd\n",
    "import numpy as np\n",
    "\n",
    "%matplotlib inline\n",
    "import matplotlib.pyplot as plt"
   ]
  },
  {
   "cell_type": "markdown",
   "metadata": {},
   "source": [
    "# Get Data"
   ]
  },
  {
   "cell_type": "code",
   "execution_count": null,
   "metadata": {
    "collapsed": true
   },
   "outputs": [],
   "source": [
    "#The way data is presented on the website, there is no easy to get all of it. \n",
    "#So I am going to write a helper functions in case I want to get more data in the future."
   ]
  },
  {
   "cell_type": "code",
   "execution_count": 2,
   "metadata": {
    "collapsed": true
   },
   "outputs": [],
   "source": [
    "def get_data(weeks):\n",
    "    url = \"http://web.mta.info/developers/data/nyct/turnstile/turnstile_{}.txt\"\n",
    "    dfs = []\n",
    "    for week in weeks:\n",
    "        file_url = url.format(week)\n",
    "        dfs.append(pd.read_csv(file_url))\n",
    "    return pd.concat(dfs)"
   ]
  },
  {
   "cell_type": "code",
   "execution_count": 3,
   "metadata": {
    "collapsed": true
   },
   "outputs": [],
   "source": [
    "weeks = [170902, 170916, 170923, 170930, 171007, 171014, 171021, 171028]\n",
    "turnstile_data = get_data(weeks)"
   ]
  },
  {
   "cell_type": "code",
   "execution_count": 4,
   "metadata": {},
   "outputs": [
    {
     "data": {
      "text/html": [
       "<div>\n",
       "<style scoped>\n",
       "    .dataframe tbody tr th:only-of-type {\n",
       "        vertical-align: middle;\n",
       "    }\n",
       "\n",
       "    .dataframe tbody tr th {\n",
       "        vertical-align: top;\n",
       "    }\n",
       "\n",
       "    .dataframe thead th {\n",
       "        text-align: right;\n",
       "    }\n",
       "</style>\n",
       "<table border=\"1\" class=\"dataframe\">\n",
       "  <thead>\n",
       "    <tr style=\"text-align: right;\">\n",
       "      <th></th>\n",
       "      <th>C/A</th>\n",
       "      <th>UNIT</th>\n",
       "      <th>SCP</th>\n",
       "      <th>STATION</th>\n",
       "      <th>LINENAME</th>\n",
       "      <th>DIVISION</th>\n",
       "      <th>DATE</th>\n",
       "      <th>TIME</th>\n",
       "      <th>DESC</th>\n",
       "      <th>ENTRIES</th>\n",
       "      <th>EXITS</th>\n",
       "    </tr>\n",
       "  </thead>\n",
       "  <tbody>\n",
       "    <tr>\n",
       "      <th>0</th>\n",
       "      <td>A002</td>\n",
       "      <td>R051</td>\n",
       "      <td>02-00-00</td>\n",
       "      <td>59 ST</td>\n",
       "      <td>NQR456W</td>\n",
       "      <td>BMT</td>\n",
       "      <td>08/26/2017</td>\n",
       "      <td>00:00:00</td>\n",
       "      <td>REGULAR</td>\n",
       "      <td>6303202</td>\n",
       "      <td>2133729</td>\n",
       "    </tr>\n",
       "    <tr>\n",
       "      <th>1</th>\n",
       "      <td>A002</td>\n",
       "      <td>R051</td>\n",
       "      <td>02-00-00</td>\n",
       "      <td>59 ST</td>\n",
       "      <td>NQR456W</td>\n",
       "      <td>BMT</td>\n",
       "      <td>08/26/2017</td>\n",
       "      <td>04:00:00</td>\n",
       "      <td>REGULAR</td>\n",
       "      <td>6303225</td>\n",
       "      <td>2133730</td>\n",
       "    </tr>\n",
       "    <tr>\n",
       "      <th>2</th>\n",
       "      <td>A002</td>\n",
       "      <td>R051</td>\n",
       "      <td>02-00-00</td>\n",
       "      <td>59 ST</td>\n",
       "      <td>NQR456W</td>\n",
       "      <td>BMT</td>\n",
       "      <td>08/26/2017</td>\n",
       "      <td>08:00:00</td>\n",
       "      <td>REGULAR</td>\n",
       "      <td>6303237</td>\n",
       "      <td>2133753</td>\n",
       "    </tr>\n",
       "    <tr>\n",
       "      <th>3</th>\n",
       "      <td>A002</td>\n",
       "      <td>R051</td>\n",
       "      <td>02-00-00</td>\n",
       "      <td>59 ST</td>\n",
       "      <td>NQR456W</td>\n",
       "      <td>BMT</td>\n",
       "      <td>08/26/2017</td>\n",
       "      <td>12:00:00</td>\n",
       "      <td>REGULAR</td>\n",
       "      <td>6303309</td>\n",
       "      <td>2133830</td>\n",
       "    </tr>\n",
       "    <tr>\n",
       "      <th>4</th>\n",
       "      <td>A002</td>\n",
       "      <td>R051</td>\n",
       "      <td>02-00-00</td>\n",
       "      <td>59 ST</td>\n",
       "      <td>NQR456W</td>\n",
       "      <td>BMT</td>\n",
       "      <td>08/26/2017</td>\n",
       "      <td>16:00:00</td>\n",
       "      <td>REGULAR</td>\n",
       "      <td>6303508</td>\n",
       "      <td>2133882</td>\n",
       "    </tr>\n",
       "  </tbody>\n",
       "</table>\n",
       "</div>"
      ],
      "text/plain": [
       "    C/A  UNIT       SCP STATION LINENAME DIVISION        DATE      TIME  \\\n",
       "0  A002  R051  02-00-00   59 ST  NQR456W      BMT  08/26/2017  00:00:00   \n",
       "1  A002  R051  02-00-00   59 ST  NQR456W      BMT  08/26/2017  04:00:00   \n",
       "2  A002  R051  02-00-00   59 ST  NQR456W      BMT  08/26/2017  08:00:00   \n",
       "3  A002  R051  02-00-00   59 ST  NQR456W      BMT  08/26/2017  12:00:00   \n",
       "4  A002  R051  02-00-00   59 ST  NQR456W      BMT  08/26/2017  16:00:00   \n",
       "\n",
       "      DESC  ENTRIES  \\\n",
       "0  REGULAR  6303202   \n",
       "1  REGULAR  6303225   \n",
       "2  REGULAR  6303237   \n",
       "3  REGULAR  6303309   \n",
       "4  REGULAR  6303508   \n",
       "\n",
       "   EXITS                                                                 \n",
       "0                                            2133729                     \n",
       "1                                            2133730                     \n",
       "2                                            2133753                     \n",
       "3                                            2133830                     \n",
       "4                                            2133882                     "
      ]
     },
     "execution_count": 4,
     "metadata": {},
     "output_type": "execute_result"
    }
   ],
   "source": [
    "turnstile_data.head()"
   ]
  },
  {
   "cell_type": "code",
   "execution_count": 5,
   "metadata": {
    "collapsed": true
   },
   "outputs": [],
   "source": [
    "#Strip any spaces from column names\n",
    "turnstile_data.columns = [column.strip() for column in turnstile_data.columns]\n",
    "\n",
    "#I have done the challenges, and I know that I won't need these columns, so I will drop them right now.\n",
    "turnstile_data = turnstile_data.drop([\"DIVISION\", \"DESC\"], axis=1, errors=\"ignore\")"
   ]
  },
  {
   "cell_type": "code",
   "execution_count": 6,
   "metadata": {
    "collapsed": true
   },
   "outputs": [],
   "source": [
    "#Fix the datetime format\n",
    "turnstile_data['DATETIME'] = turnstile_data['DATE'] + ' ' + turnstile_data['TIME']\n",
    "turnstile_data['DATETIME'] =  pd.to_datetime(turnstile_data['DATETIME'], format='%m/%d/%Y %H:%M:%S')"
   ]
  },
  {
   "cell_type": "code",
   "execution_count": 7,
   "metadata": {},
   "outputs": [
    {
     "data": {
      "text/html": [
       "<div>\n",
       "<style scoped>\n",
       "    .dataframe tbody tr th:only-of-type {\n",
       "        vertical-align: middle;\n",
       "    }\n",
       "\n",
       "    .dataframe tbody tr th {\n",
       "        vertical-align: top;\n",
       "    }\n",
       "\n",
       "    .dataframe thead th {\n",
       "        text-align: right;\n",
       "    }\n",
       "</style>\n",
       "<table border=\"1\" class=\"dataframe\">\n",
       "  <thead>\n",
       "    <tr style=\"text-align: right;\">\n",
       "      <th></th>\n",
       "      <th>C/A</th>\n",
       "      <th>UNIT</th>\n",
       "      <th>SCP</th>\n",
       "      <th>STATION</th>\n",
       "      <th>LINENAME</th>\n",
       "      <th>DATE</th>\n",
       "      <th>TIME</th>\n",
       "      <th>ENTRIES</th>\n",
       "      <th>EXITS</th>\n",
       "      <th>DATETIME</th>\n",
       "    </tr>\n",
       "  </thead>\n",
       "  <tbody>\n",
       "    <tr>\n",
       "      <th>0</th>\n",
       "      <td>A002</td>\n",
       "      <td>R051</td>\n",
       "      <td>02-00-00</td>\n",
       "      <td>59 ST</td>\n",
       "      <td>NQR456W</td>\n",
       "      <td>08/26/2017</td>\n",
       "      <td>00:00:00</td>\n",
       "      <td>6303202</td>\n",
       "      <td>2133729</td>\n",
       "      <td>2017-08-26 00:00:00</td>\n",
       "    </tr>\n",
       "    <tr>\n",
       "      <th>1</th>\n",
       "      <td>A002</td>\n",
       "      <td>R051</td>\n",
       "      <td>02-00-00</td>\n",
       "      <td>59 ST</td>\n",
       "      <td>NQR456W</td>\n",
       "      <td>08/26/2017</td>\n",
       "      <td>04:00:00</td>\n",
       "      <td>6303225</td>\n",
       "      <td>2133730</td>\n",
       "      <td>2017-08-26 04:00:00</td>\n",
       "    </tr>\n",
       "    <tr>\n",
       "      <th>2</th>\n",
       "      <td>A002</td>\n",
       "      <td>R051</td>\n",
       "      <td>02-00-00</td>\n",
       "      <td>59 ST</td>\n",
       "      <td>NQR456W</td>\n",
       "      <td>08/26/2017</td>\n",
       "      <td>08:00:00</td>\n",
       "      <td>6303237</td>\n",
       "      <td>2133753</td>\n",
       "      <td>2017-08-26 08:00:00</td>\n",
       "    </tr>\n",
       "    <tr>\n",
       "      <th>3</th>\n",
       "      <td>A002</td>\n",
       "      <td>R051</td>\n",
       "      <td>02-00-00</td>\n",
       "      <td>59 ST</td>\n",
       "      <td>NQR456W</td>\n",
       "      <td>08/26/2017</td>\n",
       "      <td>12:00:00</td>\n",
       "      <td>6303309</td>\n",
       "      <td>2133830</td>\n",
       "      <td>2017-08-26 12:00:00</td>\n",
       "    </tr>\n",
       "    <tr>\n",
       "      <th>4</th>\n",
       "      <td>A002</td>\n",
       "      <td>R051</td>\n",
       "      <td>02-00-00</td>\n",
       "      <td>59 ST</td>\n",
       "      <td>NQR456W</td>\n",
       "      <td>08/26/2017</td>\n",
       "      <td>16:00:00</td>\n",
       "      <td>6303508</td>\n",
       "      <td>2133882</td>\n",
       "      <td>2017-08-26 16:00:00</td>\n",
       "    </tr>\n",
       "  </tbody>\n",
       "</table>\n",
       "</div>"
      ],
      "text/plain": [
       "    C/A  UNIT       SCP STATION LINENAME        DATE      TIME  ENTRIES  \\\n",
       "0  A002  R051  02-00-00   59 ST  NQR456W  08/26/2017  00:00:00  6303202   \n",
       "1  A002  R051  02-00-00   59 ST  NQR456W  08/26/2017  04:00:00  6303225   \n",
       "2  A002  R051  02-00-00   59 ST  NQR456W  08/26/2017  08:00:00  6303237   \n",
       "3  A002  R051  02-00-00   59 ST  NQR456W  08/26/2017  12:00:00  6303309   \n",
       "4  A002  R051  02-00-00   59 ST  NQR456W  08/26/2017  16:00:00  6303508   \n",
       "\n",
       "     EXITS            DATETIME  \n",
       "0  2133729 2017-08-26 00:00:00  \n",
       "1  2133730 2017-08-26 04:00:00  \n",
       "2  2133753 2017-08-26 08:00:00  \n",
       "3  2133830 2017-08-26 12:00:00  \n",
       "4  2133882 2017-08-26 16:00:00  "
      ]
     },
     "execution_count": 7,
     "metadata": {},
     "output_type": "execute_result"
    }
   ],
   "source": [
    "turnstile_data.head()"
   ]
  },
  {
   "cell_type": "markdown",
   "metadata": {},
   "source": [
    "# Data Cleaning"
   ]
  },
  {
   "cell_type": "code",
   "execution_count": 8,
   "metadata": {
    "collapsed": true
   },
   "outputs": [],
   "source": [
    "#Sort every entry in LINENAME column to make sure the values are unique alphanumeric combinations.\n",
    "turnstile_data['LINENAME'] = turnstile_data['LINENAME'].apply(lambda x: ''.join(sorted(x)))\n",
    "\n",
    "#Remove duplicates.\n",
    "turnstile_data.drop_duplicates(subset = ['C/A', 'UNIT', 'SCP', 'STATION', 'LINENAME', 'DATETIME'], inplace = True)\n",
    "\n",
    "#Throw away odd time stamps.\n",
    "turnstile_data = turnstile_data[turnstile_data['DATETIME'].dt.floor('h') == turnstile_data['DATETIME']]"
   ]
  },
  {
   "cell_type": "code",
   "execution_count": 9,
   "metadata": {},
   "outputs": [
    {
     "data": {
      "text/html": [
       "<div>\n",
       "<style scoped>\n",
       "    .dataframe tbody tr th:only-of-type {\n",
       "        vertical-align: middle;\n",
       "    }\n",
       "\n",
       "    .dataframe tbody tr th {\n",
       "        vertical-align: top;\n",
       "    }\n",
       "\n",
       "    .dataframe thead th {\n",
       "        text-align: right;\n",
       "    }\n",
       "</style>\n",
       "<table border=\"1\" class=\"dataframe\">\n",
       "  <thead>\n",
       "    <tr style=\"text-align: right;\">\n",
       "      <th></th>\n",
       "      <th>C/A</th>\n",
       "      <th>UNIT</th>\n",
       "      <th>SCP</th>\n",
       "      <th>STATION</th>\n",
       "      <th>LINENAME</th>\n",
       "      <th>DATE</th>\n",
       "      <th>TIME</th>\n",
       "      <th>ENTRIES</th>\n",
       "      <th>EXITS</th>\n",
       "      <th>DATETIME</th>\n",
       "    </tr>\n",
       "  </thead>\n",
       "  <tbody>\n",
       "    <tr>\n",
       "      <th>0</th>\n",
       "      <td>A002</td>\n",
       "      <td>R051</td>\n",
       "      <td>02-00-00</td>\n",
       "      <td>59 ST</td>\n",
       "      <td>456NQRW</td>\n",
       "      <td>08/26/2017</td>\n",
       "      <td>00:00:00</td>\n",
       "      <td>6303202</td>\n",
       "      <td>2133729</td>\n",
       "      <td>2017-08-26 00:00:00</td>\n",
       "    </tr>\n",
       "    <tr>\n",
       "      <th>1</th>\n",
       "      <td>A002</td>\n",
       "      <td>R051</td>\n",
       "      <td>02-00-00</td>\n",
       "      <td>59 ST</td>\n",
       "      <td>456NQRW</td>\n",
       "      <td>08/26/2017</td>\n",
       "      <td>04:00:00</td>\n",
       "      <td>6303225</td>\n",
       "      <td>2133730</td>\n",
       "      <td>2017-08-26 04:00:00</td>\n",
       "    </tr>\n",
       "    <tr>\n",
       "      <th>2</th>\n",
       "      <td>A002</td>\n",
       "      <td>R051</td>\n",
       "      <td>02-00-00</td>\n",
       "      <td>59 ST</td>\n",
       "      <td>456NQRW</td>\n",
       "      <td>08/26/2017</td>\n",
       "      <td>08:00:00</td>\n",
       "      <td>6303237</td>\n",
       "      <td>2133753</td>\n",
       "      <td>2017-08-26 08:00:00</td>\n",
       "    </tr>\n",
       "    <tr>\n",
       "      <th>3</th>\n",
       "      <td>A002</td>\n",
       "      <td>R051</td>\n",
       "      <td>02-00-00</td>\n",
       "      <td>59 ST</td>\n",
       "      <td>456NQRW</td>\n",
       "      <td>08/26/2017</td>\n",
       "      <td>12:00:00</td>\n",
       "      <td>6303309</td>\n",
       "      <td>2133830</td>\n",
       "      <td>2017-08-26 12:00:00</td>\n",
       "    </tr>\n",
       "    <tr>\n",
       "      <th>4</th>\n",
       "      <td>A002</td>\n",
       "      <td>R051</td>\n",
       "      <td>02-00-00</td>\n",
       "      <td>59 ST</td>\n",
       "      <td>456NQRW</td>\n",
       "      <td>08/26/2017</td>\n",
       "      <td>16:00:00</td>\n",
       "      <td>6303508</td>\n",
       "      <td>2133882</td>\n",
       "      <td>2017-08-26 16:00:00</td>\n",
       "    </tr>\n",
       "  </tbody>\n",
       "</table>\n",
       "</div>"
      ],
      "text/plain": [
       "    C/A  UNIT       SCP STATION LINENAME        DATE      TIME  ENTRIES  \\\n",
       "0  A002  R051  02-00-00   59 ST  456NQRW  08/26/2017  00:00:00  6303202   \n",
       "1  A002  R051  02-00-00   59 ST  456NQRW  08/26/2017  04:00:00  6303225   \n",
       "2  A002  R051  02-00-00   59 ST  456NQRW  08/26/2017  08:00:00  6303237   \n",
       "3  A002  R051  02-00-00   59 ST  456NQRW  08/26/2017  12:00:00  6303309   \n",
       "4  A002  R051  02-00-00   59 ST  456NQRW  08/26/2017  16:00:00  6303508   \n",
       "\n",
       "     EXITS            DATETIME  \n",
       "0  2133729 2017-08-26 00:00:00  \n",
       "1  2133730 2017-08-26 04:00:00  \n",
       "2  2133753 2017-08-26 08:00:00  \n",
       "3  2133830 2017-08-26 12:00:00  \n",
       "4  2133882 2017-08-26 16:00:00  "
      ]
     },
     "execution_count": 9,
     "metadata": {},
     "output_type": "execute_result"
    }
   ],
   "source": [
    "turnstile_data.head()"
   ]
  },
  {
   "cell_type": "code",
   "execution_count": 10,
   "metadata": {
    "collapsed": true
   },
   "outputs": [],
   "source": [
    "def get_daily_counts(df, source_column, counts_column, threshold):\n",
    "    '''Returns a new dataframe with an additional column which contains entry or exit counts\n",
    "    based on the parameter passed (exits or entries).'''\n",
    "    \n",
    "    temp_df = df.copy()\n",
    "    temp_df['temp_column'] = (temp_df.\n",
    "                              groupby(['C/A', 'UNIT', 'SCP', 'STATION', 'LINENAME'])[source_column]\n",
    "                              .shift().fillna(0)) \n",
    "    temp_df[counts_column] = (temp_df['temp_column'] - temp_df[source_column]).abs()\n",
    "    temp_df = temp_df[temp_df[counts_column] <= threshold]\n",
    "    del temp_df['temp_column']\n",
    "    \n",
    "    return temp_df[1:]"
   ]
  },
  {
   "cell_type": "code",
   "execution_count": 11,
   "metadata": {
    "collapsed": true
   },
   "outputs": [],
   "source": [
    "def get_daily_totals(df, source_column):\n",
    "    '''Returns daily counts for each turnstile for specified column (entries or exits).'''\n",
    "    return df.groupby(['C/A', 'UNIT', 'SCP', 'STATION', 'LINENAME', 'DATE'])[source_column].sum().reset_index()"
   ]
  },
  {
   "cell_type": "code",
   "execution_count": 12,
   "metadata": {
    "collapsed": true
   },
   "outputs": [],
   "source": [
    "#Assuming a person passes a turnstile every 3-4 seconds,\n",
    "#the maximum number of people passing through a turnstile per 4 hours is 3366.\n",
    "#So 3366 will be my threshold.\n",
    "turnstile_daily_counts = get_daily_counts(turnstile_data, 'ENTRIES', 'ENTRY_COUNTS', 3356)\n",
    "\n",
    "turnstile_daily_totals = get_daily_totals(turnstile_daily_counts, 'ENTRY_COUNTS')"
   ]
  },
  {
   "cell_type": "code",
   "execution_count": 13,
   "metadata": {},
   "outputs": [
    {
     "data": {
      "text/html": [
       "<div>\n",
       "<style scoped>\n",
       "    .dataframe tbody tr th:only-of-type {\n",
       "        vertical-align: middle;\n",
       "    }\n",
       "\n",
       "    .dataframe tbody tr th {\n",
       "        vertical-align: top;\n",
       "    }\n",
       "\n",
       "    .dataframe thead th {\n",
       "        text-align: right;\n",
       "    }\n",
       "</style>\n",
       "<table border=\"1\" class=\"dataframe\">\n",
       "  <thead>\n",
       "    <tr style=\"text-align: right;\">\n",
       "      <th></th>\n",
       "      <th>C/A</th>\n",
       "      <th>UNIT</th>\n",
       "      <th>SCP</th>\n",
       "      <th>STATION</th>\n",
       "      <th>LINENAME</th>\n",
       "      <th>DATE</th>\n",
       "      <th>ENTRY_COUNTS</th>\n",
       "    </tr>\n",
       "  </thead>\n",
       "  <tbody>\n",
       "    <tr>\n",
       "      <th>0</th>\n",
       "      <td>A002</td>\n",
       "      <td>R051</td>\n",
       "      <td>02-00-00</td>\n",
       "      <td>59 ST</td>\n",
       "      <td>456NQRW</td>\n",
       "      <td>08/26/2017</td>\n",
       "      <td>514.0</td>\n",
       "    </tr>\n",
       "    <tr>\n",
       "      <th>1</th>\n",
       "      <td>A002</td>\n",
       "      <td>R051</td>\n",
       "      <td>02-00-00</td>\n",
       "      <td>59 ST</td>\n",
       "      <td>456NQRW</td>\n",
       "      <td>08/27/2017</td>\n",
       "      <td>539.0</td>\n",
       "    </tr>\n",
       "    <tr>\n",
       "      <th>2</th>\n",
       "      <td>A002</td>\n",
       "      <td>R051</td>\n",
       "      <td>02-00-00</td>\n",
       "      <td>59 ST</td>\n",
       "      <td>456NQRW</td>\n",
       "      <td>08/28/2017</td>\n",
       "      <td>1198.0</td>\n",
       "    </tr>\n",
       "    <tr>\n",
       "      <th>3</th>\n",
       "      <td>A002</td>\n",
       "      <td>R051</td>\n",
       "      <td>02-00-00</td>\n",
       "      <td>59 ST</td>\n",
       "      <td>456NQRW</td>\n",
       "      <td>08/29/2017</td>\n",
       "      <td>1305.0</td>\n",
       "    </tr>\n",
       "    <tr>\n",
       "      <th>4</th>\n",
       "      <td>A002</td>\n",
       "      <td>R051</td>\n",
       "      <td>02-00-00</td>\n",
       "      <td>59 ST</td>\n",
       "      <td>456NQRW</td>\n",
       "      <td>08/30/2017</td>\n",
       "      <td>1393.0</td>\n",
       "    </tr>\n",
       "  </tbody>\n",
       "</table>\n",
       "</div>"
      ],
      "text/plain": [
       "    C/A  UNIT       SCP STATION LINENAME        DATE  ENTRY_COUNTS\n",
       "0  A002  R051  02-00-00   59 ST  456NQRW  08/26/2017         514.0\n",
       "1  A002  R051  02-00-00   59 ST  456NQRW  08/27/2017         539.0\n",
       "2  A002  R051  02-00-00   59 ST  456NQRW  08/28/2017        1198.0\n",
       "3  A002  R051  02-00-00   59 ST  456NQRW  08/29/2017        1305.0\n",
       "4  A002  R051  02-00-00   59 ST  456NQRW  08/30/2017        1393.0"
      ]
     },
     "execution_count": 13,
     "metadata": {},
     "output_type": "execute_result"
    }
   ],
   "source": [
    "turnstile_daily_totals.head()"
   ]
  },
  {
   "cell_type": "markdown",
   "metadata": {},
   "source": [
    "# Plots and Analytics"
   ]
  },
  {
   "cell_type": "code",
   "execution_count": 2,
   "metadata": {
    "collapsed": true
   },
   "outputs": [],
   "source": [
    "#We will plot the daily time series for a turnstile."
   ]
  },
  {
   "cell_type": "code",
   "execution_count": 15,
   "metadata": {
    "collapsed": true
   },
   "outputs": [],
   "source": [
    "mask = ((turnstile_daily_totals['SCP']=='02-00-00') & \n",
    "        (turnstile_daily_totals['C/A']=='A002') & \n",
    "        (turnstile_daily_totals['UNIT']=='R051') &\n",
    "        (turnstile_daily_totals['STATION'] == '59 ST'))"
   ]
  },
  {
   "cell_type": "code",
   "execution_count": 16,
   "metadata": {
    "collapsed": true
   },
   "outputs": [],
   "source": [
    "dates = turnstile_daily_totals[mask]['DATE'].tolist()\n",
    "counts = turnstile_daily_totals[mask]['ENTRY_COUNTS'].tolist()"
   ]
  },
  {
   "cell_type": "code",
   "execution_count": 17,
   "metadata": {},
   "outputs": [
    {
     "data": {
      "image/png": "[encoded data removed]",
      "text/plain": [
       "<matplotlib.figure.Figure at 0x121bb4a58>"
      ]
     },
     "metadata": {},
     "output_type": "display_data"
    }
   ],
   "source": [
    "plt.figure(figsize=(18,3))\n",
    "plt.plot(dates, counts)\n",
    "plt.xticks(rotation=70);"
   ]
  },
  {
   "cell_type": "code",
   "execution_count": null,
   "metadata": {
    "collapsed": true
   },
   "outputs": [],
   "source": [
    "#Now combine turnstiles into units and stations."
   ]
  },
  {
   "cell_type": "code",
   "execution_count": 18,
   "metadata": {
    "collapsed": true
   },
   "outputs": [],
   "source": [
    "combo_daily_totals = (turnstile_daily_totals\n",
    "                      .groupby(['C/A', 'UNIT', 'STATION', 'LINENAME', 'DATE'])['ENTRY_COUNTS']\n",
    "                      .sum().reset_index())"
   ]
  },
  {
   "cell_type": "code",
   "execution_count": 19,
   "metadata": {},
   "outputs": [
    {
     "data": {
      "text/html": [
       "<div>\n",
       "<style scoped>\n",
       "    .dataframe tbody tr th:only-of-type {\n",
       "        vertical-align: middle;\n",
       "    }\n",
       "\n",
       "    .dataframe tbody tr th {\n",
       "        vertical-align: top;\n",
       "    }\n",
       "\n",
       "    .dataframe thead th {\n",
       "        text-align: right;\n",
       "    }\n",
       "</style>\n",
       "<table border=\"1\" class=\"dataframe\">\n",
       "  <thead>\n",
       "    <tr style=\"text-align: right;\">\n",
       "      <th></th>\n",
       "      <th>C/A</th>\n",
       "      <th>UNIT</th>\n",
       "      <th>STATION</th>\n",
       "      <th>LINENAME</th>\n",
       "      <th>DATE</th>\n",
       "      <th>ENTRY_COUNTS</th>\n",
       "    </tr>\n",
       "  </thead>\n",
       "  <tbody>\n",
       "    <tr>\n",
       "      <th>0</th>\n",
       "      <td>A002</td>\n",
       "      <td>R051</td>\n",
       "      <td>59 ST</td>\n",
       "      <td>456NQRW</td>\n",
       "      <td>08/26/2017</td>\n",
       "      <td>6809.0</td>\n",
       "    </tr>\n",
       "    <tr>\n",
       "      <th>1</th>\n",
       "      <td>A002</td>\n",
       "      <td>R051</td>\n",
       "      <td>59 ST</td>\n",
       "      <td>456NQRW</td>\n",
       "      <td>08/27/2017</td>\n",
       "      <td>5608.0</td>\n",
       "    </tr>\n",
       "    <tr>\n",
       "      <th>2</th>\n",
       "      <td>A002</td>\n",
       "      <td>R051</td>\n",
       "      <td>59 ST</td>\n",
       "      <td>456NQRW</td>\n",
       "      <td>08/28/2017</td>\n",
       "      <td>11525.0</td>\n",
       "    </tr>\n",
       "    <tr>\n",
       "      <th>3</th>\n",
       "      <td>A002</td>\n",
       "      <td>R051</td>\n",
       "      <td>59 ST</td>\n",
       "      <td>456NQRW</td>\n",
       "      <td>08/29/2017</td>\n",
       "      <td>12694.0</td>\n",
       "    </tr>\n",
       "    <tr>\n",
       "      <th>4</th>\n",
       "      <td>A002</td>\n",
       "      <td>R051</td>\n",
       "      <td>59 ST</td>\n",
       "      <td>456NQRW</td>\n",
       "      <td>08/30/2017</td>\n",
       "      <td>13064.0</td>\n",
       "    </tr>\n",
       "  </tbody>\n",
       "</table>\n",
       "</div>"
      ],
      "text/plain": [
       "    C/A  UNIT STATION LINENAME        DATE  ENTRY_COUNTS\n",
       "0  A002  R051   59 ST  456NQRW  08/26/2017        6809.0\n",
       "1  A002  R051   59 ST  456NQRW  08/27/2017        5608.0\n",
       "2  A002  R051   59 ST  456NQRW  08/28/2017       11525.0\n",
       "3  A002  R051   59 ST  456NQRW  08/29/2017       12694.0\n",
       "4  A002  R051   59 ST  456NQRW  08/30/2017       13064.0"
      ]
     },
     "execution_count": 19,
     "metadata": {},
     "output_type": "execute_result"
    }
   ],
   "source": [
    "combo_daily_totals.head()"
   ]
  },
  {
   "cell_type": "code",
   "execution_count": 20,
   "metadata": {
    "collapsed": true
   },
   "outputs": [],
   "source": [
    "stations_daily_totals = (combo_daily_totals\n",
    "                        .groupby(['STATION', 'LINENAME', 'DATE'])['ENTRY_COUNTS']\n",
    "                        .sum().reset_index())"
   ]
  },
  {
   "cell_type": "code",
   "execution_count": 21,
   "metadata": {},
   "outputs": [
    {
     "data": {
      "text/html": [
       "<div>\n",
       "<style scoped>\n",
       "    .dataframe tbody tr th:only-of-type {\n",
       "        vertical-align: middle;\n",
       "    }\n",
       "\n",
       "    .dataframe tbody tr th {\n",
       "        vertical-align: top;\n",
       "    }\n",
       "\n",
       "    .dataframe thead th {\n",
       "        text-align: right;\n",
       "    }\n",
       "</style>\n",
       "<table border=\"1\" class=\"dataframe\">\n",
       "  <thead>\n",
       "    <tr style=\"text-align: right;\">\n",
       "      <th></th>\n",
       "      <th>STATION</th>\n",
       "      <th>LINENAME</th>\n",
       "      <th>DATE</th>\n",
       "      <th>ENTRY_COUNTS</th>\n",
       "    </tr>\n",
       "  </thead>\n",
       "  <tbody>\n",
       "    <tr>\n",
       "      <th>0</th>\n",
       "      <td>1 AV</td>\n",
       "      <td>L</td>\n",
       "      <td>08/26/2017</td>\n",
       "      <td>11897.0</td>\n",
       "    </tr>\n",
       "    <tr>\n",
       "      <th>1</th>\n",
       "      <td>1 AV</td>\n",
       "      <td>L</td>\n",
       "      <td>08/27/2017</td>\n",
       "      <td>13321.0</td>\n",
       "    </tr>\n",
       "    <tr>\n",
       "      <th>2</th>\n",
       "      <td>1 AV</td>\n",
       "      <td>L</td>\n",
       "      <td>08/28/2017</td>\n",
       "      <td>16840.0</td>\n",
       "    </tr>\n",
       "    <tr>\n",
       "      <th>3</th>\n",
       "      <td>1 AV</td>\n",
       "      <td>L</td>\n",
       "      <td>08/29/2017</td>\n",
       "      <td>18255.0</td>\n",
       "    </tr>\n",
       "    <tr>\n",
       "      <th>4</th>\n",
       "      <td>1 AV</td>\n",
       "      <td>L</td>\n",
       "      <td>08/30/2017</td>\n",
       "      <td>19005.0</td>\n",
       "    </tr>\n",
       "  </tbody>\n",
       "</table>\n",
       "</div>"
      ],
      "text/plain": [
       "  STATION LINENAME        DATE  ENTRY_COUNTS\n",
       "0    1 AV        L  08/26/2017       11897.0\n",
       "1    1 AV        L  08/27/2017       13321.0\n",
       "2    1 AV        L  08/28/2017       16840.0\n",
       "3    1 AV        L  08/29/2017       18255.0\n",
       "4    1 AV        L  08/30/2017       19005.0"
      ]
     },
     "execution_count": 21,
     "metadata": {},
     "output_type": "execute_result"
    }
   ],
   "source": [
    "stations_daily_totals.head()"
   ]
  },
  {
   "cell_type": "code",
   "execution_count": 22,
   "metadata": {
    "collapsed": true
   },
   "outputs": [],
   "source": [
    "#Because I know some stations and lines have multiple combinations, I am going to combine these columns for my analysis.\n",
    "stations_daily_totals['STATION_LINENAME'] = stations_daily_totals['STATION'] + ' ' + stations_daily_totals['LINENAME']"
   ]
  },
  {
   "cell_type": "code",
   "execution_count": 23,
   "metadata": {
    "collapsed": true
   },
   "outputs": [],
   "source": [
    "#Here, I am creating a dictionary to store available dates and counts as tuples for every station.\n",
    "station_dict = {}\n",
    "station_list = stations_daily_totals['STATION_LINENAME'].unique().tolist()\n",
    "\n",
    "for station in station_list:\n",
    "    dates = (stations_daily_totals[stations_daily_totals['STATION_LINENAME'] == station])['DATE'].tolist()\n",
    "    counts = (stations_daily_totals[stations_daily_totals['STATION_LINENAME'] == station])['ENTRY_COUNTS'].tolist()\n",
    "    station_dict[station] = (dates, counts)"
   ]
  },
  {
   "cell_type": "code",
   "execution_count": null,
   "metadata": {
    "collapsed": true
   },
   "outputs": [],
   "source": [
    "#Now we can plot the time series for a station."
   ]
  },
  {
   "cell_type": "code",
   "execution_count": 24,
   "metadata": {},
   "outputs": [
    {
     "data": {
      "image/png": "[encoded data removed]",
      "text/plain": [
       "<matplotlib.figure.Figure at 0x121be9668>"
      ]
     },
     "metadata": {},
     "output_type": "display_data"
    }
   ],
   "source": [
    "plt.figure(figsize=(18,3))\n",
    "plt.plot(station_dict['59 ST 456NQRW'][0], station_dict['59 ST 456NQRW'][1])\n",
    "plt.xticks(rotation=70);"
   ]
  },
  {
   "cell_type": "code",
   "execution_count": null,
   "metadata": {
    "collapsed": true
   },
   "outputs": [],
   "source": [
    "#Now let's make weekly aggregates."
   ]
  },
  {
   "cell_type": "code",
   "execution_count": 25,
   "metadata": {},
   "outputs": [
    {
     "data": {
      "text/html": [
       "<div>\n",
       "<style scoped>\n",
       "    .dataframe tbody tr th:only-of-type {\n",
       "        vertical-align: middle;\n",
       "    }\n",
       "\n",
       "    .dataframe tbody tr th {\n",
       "        vertical-align: top;\n",
       "    }\n",
       "\n",
       "    .dataframe thead th {\n",
       "        text-align: right;\n",
       "    }\n",
       "</style>\n",
       "<table border=\"1\" class=\"dataframe\">\n",
       "  <thead>\n",
       "    <tr style=\"text-align: right;\">\n",
       "      <th></th>\n",
       "      <th>STATION</th>\n",
       "      <th>LINENAME</th>\n",
       "      <th>DATE</th>\n",
       "      <th>ENTRY_COUNTS</th>\n",
       "      <th>STATION_LINENAME</th>\n",
       "      <th>WEEKDAY</th>\n",
       "    </tr>\n",
       "  </thead>\n",
       "  <tbody>\n",
       "    <tr>\n",
       "      <th>0</th>\n",
       "      <td>1 AV</td>\n",
       "      <td>L</td>\n",
       "      <td>2017-08-26</td>\n",
       "      <td>11897.0</td>\n",
       "      <td>1 AV L</td>\n",
       "      <td>Saturday</td>\n",
       "    </tr>\n",
       "    <tr>\n",
       "      <th>1</th>\n",
       "      <td>1 AV</td>\n",
       "      <td>L</td>\n",
       "      <td>2017-08-27</td>\n",
       "      <td>13321.0</td>\n",
       "      <td>1 AV L</td>\n",
       "      <td>Sunday</td>\n",
       "    </tr>\n",
       "    <tr>\n",
       "      <th>2</th>\n",
       "      <td>1 AV</td>\n",
       "      <td>L</td>\n",
       "      <td>2017-08-28</td>\n",
       "      <td>16840.0</td>\n",
       "      <td>1 AV L</td>\n",
       "      <td>Monday</td>\n",
       "    </tr>\n",
       "    <tr>\n",
       "      <th>3</th>\n",
       "      <td>1 AV</td>\n",
       "      <td>L</td>\n",
       "      <td>2017-08-29</td>\n",
       "      <td>18255.0</td>\n",
       "      <td>1 AV L</td>\n",
       "      <td>Tuesday</td>\n",
       "    </tr>\n",
       "    <tr>\n",
       "      <th>4</th>\n",
       "      <td>1 AV</td>\n",
       "      <td>L</td>\n",
       "      <td>2017-08-30</td>\n",
       "      <td>19005.0</td>\n",
       "      <td>1 AV L</td>\n",
       "      <td>Wednesday</td>\n",
       "    </tr>\n",
       "    <tr>\n",
       "      <th>5</th>\n",
       "      <td>1 AV</td>\n",
       "      <td>L</td>\n",
       "      <td>2017-08-31</td>\n",
       "      <td>19846.0</td>\n",
       "      <td>1 AV L</td>\n",
       "      <td>Thursday</td>\n",
       "    </tr>\n",
       "    <tr>\n",
       "      <th>6</th>\n",
       "      <td>1 AV</td>\n",
       "      <td>L</td>\n",
       "      <td>2017-09-01</td>\n",
       "      <td>20543.0</td>\n",
       "      <td>1 AV L</td>\n",
       "      <td>Friday</td>\n",
       "    </tr>\n",
       "  </tbody>\n",
       "</table>\n",
       "</div>"
      ],
      "text/plain": [
       "  STATION LINENAME       DATE  ENTRY_COUNTS STATION_LINENAME    WEEKDAY\n",
       "0    1 AV        L 2017-08-26       11897.0           1 AV L   Saturday\n",
       "1    1 AV        L 2017-08-27       13321.0           1 AV L     Sunday\n",
       "2    1 AV        L 2017-08-28       16840.0           1 AV L     Monday\n",
       "3    1 AV        L 2017-08-29       18255.0           1 AV L    Tuesday\n",
       "4    1 AV        L 2017-08-30       19005.0           1 AV L  Wednesday\n",
       "5    1 AV        L 2017-08-31       19846.0           1 AV L   Thursday\n",
       "6    1 AV        L 2017-09-01       20543.0           1 AV L     Friday"
      ]
     },
     "execution_count": 25,
     "metadata": {},
     "output_type": "execute_result"
    }
   ],
   "source": [
    "#I want to see which day of the week my data starts from, so I am going to create a copy of stations_daily_counts,\n",
    "#convert the date to datetime format, and use datetime functionality to get the days of the week.\n",
    "\n",
    "weekday_df = stations_daily_totals.copy()\n",
    "weekday_df['DATE'] = pd.to_datetime(weekday_df['DATE'], format='%m/%d/%Y')\n",
    "weekday_df['WEEKDAY'] = weekday_df['DATE'].dt.weekday_name\n",
    "\n",
    "weekday_df.head(7)"
   ]
  },
  {
   "cell_type": "code",
   "execution_count": 26,
   "metadata": {
    "collapsed": true
   },
   "outputs": [],
   "source": [
    "mask = (stations_daily_totals['STATION_LINENAME'] == '59 ST 456NQRW')"
   ]
  },
  {
   "cell_type": "code",
   "execution_count": 27,
   "metadata": {
    "collapsed": true
   },
   "outputs": [],
   "source": [
    "station_daily_totals = stations_daily_totals[mask]"
   ]
  },
  {
   "cell_type": "code",
   "execution_count": 28,
   "metadata": {
    "collapsed": true
   },
   "outputs": [],
   "source": [
    "day = 0 \n",
    "week_count_list = []\n",
    "\n",
    "while day < len(station_daily_totals):\n",
    "    week_count_list.append(station_daily_totals[day:day+7]['ENTRY_COUNTS'].tolist())\n",
    "    day = day + 7"
   ]
  },
  {
   "cell_type": "code",
   "execution_count": 29,
   "metadata": {},
   "outputs": [
    {
     "data": {
      "image/png": "[encoded data removed]",
      "text/plain": [
       "<matplotlib.figure.Figure at 0x125758710>"
      ]
     },
     "metadata": {},
     "output_type": "display_data"
    }
   ],
   "source": [
    "labels = ['Sat', 'Sun', 'Mon', 'Tue', 'Wed', 'Thu', 'Fri']\n",
    "\n",
    "for week in week_count_list:\n",
    "    plt.plot(week)\n",
    "    plt.xticks(range(len(labels)), labels)"
   ]
  },
  {
   "cell_type": "code",
   "execution_count": null,
   "metadata": {
    "collapsed": true
   },
   "outputs": [],
   "source": [
    "#Sum total ridership for each station over multiple weeks and sort the ridership in ascending order."
   ]
  },
  {
   "cell_type": "code",
   "execution_count": 30,
   "metadata": {},
   "outputs": [
    {
     "data": {
      "text/html": [
       "<div>\n",
       "<style scoped>\n",
       "    .dataframe tbody tr th:only-of-type {\n",
       "        vertical-align: middle;\n",
       "    }\n",
       "\n",
       "    .dataframe tbody tr th {\n",
       "        vertical-align: top;\n",
       "    }\n",
       "\n",
       "    .dataframe thead th {\n",
       "        text-align: right;\n",
       "    }\n",
       "</style>\n",
       "<table border=\"1\" class=\"dataframe\">\n",
       "  <thead>\n",
       "    <tr style=\"text-align: right;\">\n",
       "      <th></th>\n",
       "      <th>STATION_LINENAME</th>\n",
       "      <th>ENTRY_COUNTS</th>\n",
       "    </tr>\n",
       "  </thead>\n",
       "  <tbody>\n",
       "    <tr>\n",
       "      <th>0</th>\n",
       "      <td>1 AV L</td>\n",
       "      <td>1130919.0</td>\n",
       "    </tr>\n",
       "    <tr>\n",
       "      <th>1</th>\n",
       "      <td>103 ST 1</td>\n",
       "      <td>653428.0</td>\n",
       "    </tr>\n",
       "    <tr>\n",
       "      <th>2</th>\n",
       "      <td>103 ST 6</td>\n",
       "      <td>697156.0</td>\n",
       "    </tr>\n",
       "    <tr>\n",
       "      <th>3</th>\n",
       "      <td>103 ST BC</td>\n",
       "      <td>239476.0</td>\n",
       "    </tr>\n",
       "    <tr>\n",
       "      <th>4</th>\n",
       "      <td>103 ST-CORONA 7</td>\n",
       "      <td>1032524.0</td>\n",
       "    </tr>\n",
       "  </tbody>\n",
       "</table>\n",
       "</div>"
      ],
      "text/plain": [
       "  STATION_LINENAME  ENTRY_COUNTS\n",
       "0           1 AV L     1130919.0\n",
       "1         103 ST 1      653428.0\n",
       "2         103 ST 6      697156.0\n",
       "3        103 ST BC      239476.0\n",
       "4  103 ST-CORONA 7     1032524.0"
      ]
     },
     "execution_count": 30,
     "metadata": {},
     "output_type": "execute_result"
    }
   ],
   "source": [
    "stations_totals = stations_daily_totals.groupby('STATION_LINENAME')['ENTRY_COUNTS'].sum().reset_index()\n",
    "\n",
    "stations_totals.head()"
   ]
  },
  {
   "cell_type": "code",
   "execution_count": 31,
   "metadata": {},
   "outputs": [
    {
     "data": {
      "text/html": [
       "<div>\n",
       "<style scoped>\n",
       "    .dataframe tbody tr th:only-of-type {\n",
       "        vertical-align: middle;\n",
       "    }\n",
       "\n",
       "    .dataframe tbody tr th {\n",
       "        vertical-align: top;\n",
       "    }\n",
       "\n",
       "    .dataframe thead th {\n",
       "        text-align: right;\n",
       "    }\n",
       "</style>\n",
       "<table border=\"1\" class=\"dataframe\">\n",
       "  <thead>\n",
       "    <tr style=\"text-align: right;\">\n",
       "      <th></th>\n",
       "      <th>STATION_LINENAME</th>\n",
       "      <th>ENTRY_COUNTS</th>\n",
       "    </tr>\n",
       "  </thead>\n",
       "  <tbody>\n",
       "    <tr>\n",
       "      <th>298</th>\n",
       "      <td>GRD CNTRL-42 ST 4567S</td>\n",
       "      <td>7014381.0</td>\n",
       "    </tr>\n",
       "    <tr>\n",
       "      <th>83</th>\n",
       "      <td>34 ST-HERALD SQ BDFMNQRW</td>\n",
       "      <td>6098006.0</td>\n",
       "    </tr>\n",
       "    <tr>\n",
       "      <th>26</th>\n",
       "      <td>14 ST-UNION SQ 456LNQRW</td>\n",
       "      <td>5565998.0</td>\n",
       "    </tr>\n",
       "    <tr>\n",
       "      <th>289</th>\n",
       "      <td>FULTON ST 2345ACJZ</td>\n",
       "      <td>4445449.0</td>\n",
       "    </tr>\n",
       "    <tr>\n",
       "      <th>96</th>\n",
       "      <td>42 ST-PORT AUTH 1237ACENQRSW</td>\n",
       "      <td>4381790.0</td>\n",
       "    </tr>\n",
       "  </tbody>\n",
       "</table>\n",
       "</div>"
      ],
      "text/plain": [
       "                 STATION_LINENAME  ENTRY_COUNTS\n",
       "298         GRD CNTRL-42 ST 4567S     7014381.0\n",
       "83       34 ST-HERALD SQ BDFMNQRW     6098006.0\n",
       "26        14 ST-UNION SQ 456LNQRW     5565998.0\n",
       "289            FULTON ST 2345ACJZ     4445449.0\n",
       "96   42 ST-PORT AUTH 1237ACENQRSW     4381790.0"
      ]
     },
     "execution_count": 31,
     "metadata": {},
     "output_type": "execute_result"
    }
   ],
   "source": [
    "stations_totals = stations_totals.sort_values(['ENTRY_COUNTS'], ascending = False)\n",
    "\n",
    "stations_totals.head()"
   ]
  },
  {
   "cell_type": "code",
   "execution_count": null,
   "metadata": {
    "collapsed": true
   },
   "outputs": [],
   "source": [
    "#Now visualize the results."
   ]
  },
  {
   "cell_type": "code",
   "execution_count": 32,
   "metadata": {
    "collapsed": true
   },
   "outputs": [],
   "source": [
    "total_ridership_counts = stations_totals['ENTRY_COUNTS'].tolist()"
   ]
  },
  {
   "cell_type": "code",
   "execution_count": 33,
   "metadata": {},
   "outputs": [
    {
     "data": {
      "image/png": "[encoded data removed]",
      "text/plain": [
       "<matplotlib.figure.Figure at 0x11efe9e48>"
      ]
     },
     "metadata": {},
     "output_type": "display_data"
    }
   ],
   "source": [
    "plt.figure(figsize=(12,5))\n",
    "plt.hist(total_ridership_counts);"
   ]
  },
  {
   "cell_type": "code",
   "execution_count": 34,
   "metadata": {},
   "outputs": [
    {
     "data": {
      "image/png": "[encoded data removed]",
      "text/plain": [
       "<matplotlib.figure.Figure at 0x1202b96d8>"
      ]
     },
     "metadata": {},
     "output_type": "display_data"
    }
   ],
   "source": [
    "plt.figure(figsize=(12,5))\n",
    "indices = range(len(total_ridership_counts))\n",
    "plt.bar(indices, total_ridership_counts);"
   ]
  }
 ],
 "metadata": {
  "kernelspec": {
   "display_name": "Python 3",
   "language": "python",
   "name": "python3"
  },
  "language_info": {
   "codemirror_mode": {
    "name": "ipython",
    "version": 3
   },
   "file_extension": ".py",
   "mimetype": "text/x-python",
   "name": "python",
   "nbconvert_exporter": "python",
   "pygments_lexer": "ipython3",
   "version": "3.6.4"
  }
 },
 "nbformat": 4,
 "nbformat_minor": 2
}
